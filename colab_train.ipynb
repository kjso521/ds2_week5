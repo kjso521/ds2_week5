{
  "cells": [
    {
      "cell_type": "markdown",
      "metadata": {},
      "source": [
        "# 삼성 DS 과제 - DnCNN 모델 학습 파이프라인 (On-the-fly Augmentation Ver.)\n",
        "\n",
        "이 노트북은 \"On-the-fly Augmentation\" 방식을 사용하여 Denoising, Deconvolution, End-to-End 모델을 학습시키는 파이프라인입니다.\n",
        "\n",
        "**주요 특징:**\n",
        "- **실시간 데이터 증강:** 대용량 데이터셋을 미리 생성할 필요 없이, 학습 중에 실시간으로 원본 이미지에 손상(Noise, Convolution)을 적용합니다. 이를 통해 I/O 병목 현상을 해결하고 저장 공간을 절약합니다.\n",
        "- **통합 환경:** Denoising, Deconvolution, End-to-End 세 가지 실험을 노트북 셀 선택을 통해 간단하게 실행할 수 있습니다.\n",
        "- **로컬 환경 호환:** `params.py`에 환경 자동 감지 기능이 추가되어, 이 노트북과 동일한 코드를 로컬 Windows 환경에서도 (CPU로) 실행할 수 있습니다.\n",
        "\n",
        "**실행 순서:**\n",
        "1. **1. 환경 설정 및 데이터 준비:** Drive 마운트, 경로 설정, 라이브러리 설치 및 원본 데이터셋(train, val)을 Colab 로컬 런타임으로 복사합니다. (최초 1회 필수 실행)\n",
        "2. **2. 학습 실행:** 원하는 실험(Denoising, Deconvolution, End-to-End)에 해당하는 셀을 선택하여 실행합니다. \n",
        "   - 로그와 학습된 모델(`.ckpt`), 테스트 결과물은 모두 Google Drive의 프로젝트 폴더 내 `logs_...` 디렉토리에 저장됩니다.\n"
      ]
    },
    {
      "cell_type": "markdown",
      "metadata": {},
      "source": [
        "## 1. 환경 설정 및 데이터 준비\n"
      ]
    },
    {
      "cell_type": "code",
      "execution_count": null,
      "metadata": {},
      "outputs": [],
      "source": [
        "# @title Google Drive 마운트\n",
        "from google.colab import drive\n",
        "drive.mount('/content/drive')\n"
      ]
    },
    {
      "cell_type": "code",
      "execution_count": null,
      "metadata": {},
      "outputs": [],
      "source": [
        "# @title 프로젝트 경로 설정 및 라이브러리 설치\n",
        "import os\n",
        "import sys\n",
        "\n",
        "# 💥 사용자 설정: 자신의 Google Drive 프로젝트 경로에 맞게 수정해주세요.\n",
        "PROJECT_ROOT = \"/content/drive/MyDrive/Data Scientist/Project/Week5/week5\"\n",
        "os.chdir(PROJECT_ROOT)\n",
        "sys.path.append(PROJECT_ROOT)\n",
        "\n",
        "print(f\"Current working directory: {os.getcwd()}\")\n",
        "\n",
        "# 필요한 라이브러리 설치\n",
        "%pip install loguru tqdm --quiet\n"
      ]
    },
    {
      "cell_type": "code",
      "execution_count": null,
      "metadata": {},
      "outputs": [],
      "source": [
        "# @title 🚀 [필수] 원본 데이터셋 로컬 런타임으로 복사\n",
        "import shutil\n",
        "from pathlib import Path\n",
        "from tqdm.notebook import tqdm\n",
        "\n",
        "DRIVE_DATASET_ROOT = Path(PROJECT_ROOT) / \"dataset\"\n",
        "LOCAL_DATASET_ROOT = Path(\"/content/dataset\")\n",
        "\n",
        "# 복사할 폴더 목록 (원본 데이터만)\n",
        "folders_to_copy = [\"train\", \"val\"]\n",
        "\n",
        "print(\"Starting dataset copy from Google Drive to local runtime...\")\n",
        "\n",
        "if LOCAL_DATASET_ROOT.exists():\n",
        "    print(\"Local dataset folder already exists. Skipping copy.\")\n",
        "else:\n",
        "    LOCAL_DATASET_ROOT.mkdir(parents=True, exist_ok=True)\n",
        "    \n",
        "    total_files = 0\n",
        "    for folder in folders_to_copy:\n",
        "        source_folder = DRIVE_DATASET_ROOT / folder\n",
        "        if source_folder.exists():\n",
        "            # 전체 파일 수 계산\n",
        "            total_files += len(list(source_folder.glob('**/*')))\n",
        "\n",
        "    with tqdm(total=total_files, unit=\"file\") as pbar:\n",
        "        for folder in folders_to_copy:\n",
        "            source_folder = DRIVE_DATASET_ROOT / folder\n",
        "            target_folder = LOCAL_DATASET_ROOT / folder\n",
        "            \n",
        "            if not source_folder.exists():\n",
        "                print(f\"Warning: Source folder '{source_folder}' not found in Drive.\")\n",
        "                continue\n",
        "                \n",
        "            if not target_folder.exists():\n",
        "                target_folder.mkdir(parents=True)\n",
        "            \n",
        "            pbar.set_description(f\"Copying {folder}...\")\n",
        "            for file_path in source_folder.glob('**/*'):\n",
        "                if file_path.is_file():\n",
        "                    shutil.copy(file_path, target_folder / file_path.name)\n",
        "                    pbar.update(1)\n",
        "\n",
        "    print(\"\\nDataset copy finished!\")\n",
        "\n",
        "# params.py가 로컬 경로를 바라보도록 환경 변수 설정\n",
        "os.environ['DATA_ROOT'] = str(LOCAL_DATASET_ROOT)\n",
        "print(f\"DATA_ROOT is now set to: {os.environ.get('DATA_ROOT')}\")\n"
      ]
    },
    {
      "cell_type": "markdown",
      "metadata": {},
      "source": [
        "## 2. 학습 실행\n",
        "\n",
        "아래 3개의 셀 중 원하는 실험을 선택하여 실행하세요. 로그와 결과물은 Drive에 저장됩니다.\n"
      ]
    },
    {
      "cell_type": "code",
      "execution_count": null,
      "metadata": {},
      "outputs": [],
      "source": [
        "# @title 🧪 1. Denoising 모델 학습 (Noise Only)\n",
        "!python ./code_denoising/train.py --run_dir_name \"logs_denoising\" --augmentation_mode \"noise_only\" --train_epoch 100 --train_batch 4 --valid_batch 8 --num_workers 4 --lr 1e-4\n"
      ]
    },
    {
      "cell_type": "code",
      "execution_count": null,
      "metadata": {},
      "outputs": [],
      "source": [
        "# @title 🧪 2. Deconvolution 모델 학습 (Convolution Only)\n",
        "!python ./code_denoising/train.py --run_dir_name \"logs_deconvolution\" --augmentation_mode \"conv_only\" --train_epoch 100 --train_batch 4 --valid_batch 8 --num_workers 4 --lr 1e-4\n"
      ]
    },
    {
      "cell_type": "code",
      "execution_count": 1,
      "metadata": {},
      "outputs": [
        {
          "name": "stdout",
          "output_type": "stream",
          "text": [
            "^C\n"
          ]
        }
      ],
      "source": [
        "# @title 🧪 3. End-to-End 모델 학습 (Noise + Convolution)\n",
        "!python ./code_denoising/train.py --run_dir_name \"logs_end_to_end\" --augmentation_mode \"both\" --train_epoch 100 --train_batch 4 --valid_batch 8 --num_workers 4 --lr 1e-4\n"
      ]
    },
    {
      "cell_type": "code",
      "execution_count": null,
      "metadata": {},
      "outputs": [],
      "source": []
    }
  ],
  "metadata": {
    "kernelspec": {
      "display_name": "Python 3",
      "language": "python",
      "name": "python3"
    },
    "language_info": {
      "codemirror_mode": {
        "name": "ipython",
        "version": 3
      },
      "file_extension": ".py",
      "mimetype": "text/x-python",
      "name": "python",
      "nbconvert_exporter": "python",
      "pygments_lexer": "ipython3",
      "version": "3.10.0"
    }
  },
  "nbformat": 4,
  "nbformat_minor": 2
}
