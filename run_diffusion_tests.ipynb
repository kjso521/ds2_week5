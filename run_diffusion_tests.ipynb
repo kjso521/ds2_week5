{
  "cells": [
    {
      "cell_type": "markdown",
      "metadata": {},
      "source": [
        "# Diffusion & Deconvolution Components Test\n",
        "\n",
        "This notebook is for testing the individual components implemented for the advanced image restoration pipeline:\n",
        "1. `ClippedInverseFilter`: The project-specific deconvolution method.\n",
        "2. `HuggingFace_Denoiser`: The plug-in denoiser for the PnP algorithm.\n",
        "3. `DiffPIR_Pipeline`: The high-performance guided diffusion restoration model.\n"
      ]
    },
    {
      "cell_type": "code",
      "execution_count": null,
      "metadata": {},
      "outputs": [],
      "source": [
        "import sys\n",
        "from pathlib import Path\n",
        "import torch\n",
        "import numpy as np\n",
        "import matplotlib.pyplot as plt\n",
        "from PIL import Image\n",
        "\n",
        "# Add project root to system path\n",
        "ROOT = Path.cwd() # Assumes the notebook is in the project root\n",
        "if str(ROOT) not in sys.path:\n",
        "    sys.path.append(str(ROOT))\n",
        "\n",
        "# Import the implemented modules\n",
        "from code_denoising.classical_methods.deconvolution import ClippedInverseFilter\n",
        "from code_denoising.diffusion_methods.hf_denoiser import HuggingFace_Denoiser\n",
        "from code_denoising.diffusion_methods.hf_diffpir import DiffPIR_Pipeline\n",
        "from diffusers import DDPMScheduler, UNet2DModel\n",
        "\n",
        "print(\"Imports successful!\")\n"
      ]
    },
    {
      "cell_type": "markdown",
      "metadata": {},
      "source": [
        "## 1. Load Sample Data\n",
        "\n",
        "We will load a sample image from the `test_y` folder to use as input for our tests.\n"
      ]
    },
    {
      "cell_type": "code",
      "execution_count": null,
      "metadata": {},
      "outputs": [],
      "source": [
        "DEVICE = \"cuda\" if torch.cuda.is_available() else \"cpu\"\n",
        "\n",
        "# Load a sample degraded image\n",
        "sample_path = ROOT / \"dataset/test_y/00000.npy\"\n",
        "sample_image_np = np.load(sample_path)\n",
        "sample_image_torch = torch.from_numpy(sample_image_np).unsqueeze(0).unsqueeze(0).float().to(DEVICE) # Shape: [1, 1, H, W]\n",
        "\n",
        "# Define the 5 known convolution directions\n",
        "B0_DIRS = [(-0.809, -0.5878), (-0.809, 0.5878), (0.309, -0.9511), (0.309, 0.9511), (1.0, 0.0)]\n",
        "\n",
        "def plot_image(tensor, title=\"\"):\n",
        "    plt.imshow(tensor.squeeze().cpu().numpy(), cmap='gray')\n",
        "    plt.title(title)\n",
        "    plt.axis('off')\n",
        "\n",
        "plt.figure()\n",
        "plot_image(sample_image_torch, title=\"Original Degraded Image\")\n",
        "plt.show()\n"
      ]
    },
    {
      "cell_type": "markdown",
      "metadata": {},
      "source": [
        "## 2. Test `ClippedInverseFilter`\n"
      ]
    },
    {
      "cell_type": "code",
      "execution_count": null,
      "metadata": {},
      "outputs": [],
      "source": [
        "deconv_filter = ClippedInverseFilter()\n",
        "restored_images_deconv = deconv_filter.run_on_all_directions(sample_image_torch, B0_DIRS)\n",
        "\n",
        "plt.figure(figsize=(20, 4))\n",
        "plt.subplot(1, 6, 1)\n",
        "plot_image(sample_image_torch, title=\"Input\")\n",
        "for i, (img, b0_dir) in enumerate(zip(restored_images_deconv, B0_DIRS)):\n",
        "    plt.subplot(1, 6, i + 2)\n",
        "    plot_image(img, title=f\"Deconv Dir {i+1}\")\n",
        "plt.suptitle(\"ClippedInverseFilter Results for all 5 Directions\", fontsize=16)\n",
        "plt.show()\n"
      ]
    },
    {
      "cell_type": "markdown",
      "metadata": {},
      "source": [
        "## 3. Test `HuggingFace_Denoiser`\n",
        "\n",
        "Note: This will download a pre-trained model from Hugging Face Hub, which might take some time.\n"
      ]
    },
    {
      "cell_type": "code",
      "execution_count": null,
      "metadata": {},
      "outputs": [],
      "source": [
        "denoiser = HuggingFace_Denoiser(device=DEVICE)\n",
        "\n",
        "# The denoiser expects input in [-1, 1], so we normalize our [0, 1] image\n",
        "normalized_input = sample_image_torch * 2.0 - 1.0\n",
        "# The pre-trained model expects 3 channels (RGB), so we repeat our single channel\n",
        "normalized_input_3ch = normalized_input.repeat(1, 3, 1, 1)\n",
        "\n",
        "denoised_image = denoiser.denoise(normalized_input_3ch, noise_level=150)\n",
        "\n",
        "# Convert back to 1 channel grayscale and [0, 1] range for visualization\n",
        "denoised_image_gray = denoised_image.mean(dim=1, keepdim=True)\n",
        "denoised_image_final = (denoised_image_gray + 1.0) / 2.0\n",
        "\n",
        "plt.figure(figsize=(10, 5))\n",
        "plt.subplot(1, 2, 1)\n",
        "plot_image(sample_image_torch, title=\"Input\")\n",
        "plt.subplot(1, 2, 2)\n",
        "plot_image(denoised_image_final, title=\"Denoised Output\")\n",
        "plt.suptitle(\"HuggingFace_Denoiser Result\", fontsize=16)\n",
        "plt.show()\n"
      ]
    },
    {
      "cell_type": "markdown",
      "metadata": {},
      "source": [
        "## 4. Test `DiffPIR_Pipeline`\n"
      ]
    },
    {
      "cell_type": "code",
      "execution_count": null,
      "metadata": {},
      "outputs": [],
      "source": [
        "# Load a pre-trained model and scheduler\n",
        "model_name = \"google/ddpm-celebahq-256\"\n",
        "unet = UNet2DModel.from_pretrained(model_name).to(DEVICE)\n",
        "scheduler = DDPMScheduler.from_pretrained(model_name)\n",
        "\n",
        "# Create our custom pipeline\n",
        "diffpir_pipeline = DiffPIR_Pipeline(unet=unet, scheduler=scheduler)\n",
        "\n",
        "# We need to guess the correct B0_dir for the sample image. Let's try the first one.\n",
        "chosen_b0_dir = B0_DIRS[0]\n",
        "\n",
        "# DiffPIR also works on 3-channel images in range [-1, 1]\n",
        "normalized_input_3ch_diffpir = sample_image_torch.repeat(1, 3, 1, 1)\n",
        "\n",
        "restored_image_diffpir = diffpir_pipeline(\n",
        "    degraded_image=normalized_input_3ch_diffpir,\n",
        "    B0_dir=chosen_b0_dir,\n",
        "    guidance_scale=0.5,\n",
        "    num_inference_steps=50 # Use fewer steps for a quick test\n",
        ")\n",
        "\n",
        "# Convert back for visualization\n",
        "restored_image_gray = restored_image_diffpir.mean(dim=1, keepdim=True)\n",
        "restored_image_final = (restored_image_gray + 1.0) / 2.0\n",
        "\n",
        "plt.figure(figsize=(10, 5))\n",
        "plt.subplot(1, 2, 1)\n",
        "plot_image(sample_image_torch, title=\"Input\")\n",
        "plt.subplot(1, 2, 2)\n",
        "plot_image(restored_image_final, title=\"DiffPIR Restored Output\")\n",
        "plt.suptitle(\"DiffPIR_Pipeline Result\", fontsize=16)\n",
        "plt.show()\n"
      ]
    },
    {
      "cell_type": "code",
      "execution_count": null,
      "metadata": {},
      "outputs": [],
      "source": []
    },
    {
      "cell_type": "markdown",
      "metadata": {},
      "source": [
        "# Diffusion & Deconvolution Components Test\n",
        "\n",
        "This notebook is for testing the individual components implemented for the advanced image restoration pipeline:\n",
        "1. `ClippedInverseFilter`: The project-specific deconvolution method.\n",
        "2. `HuggingFace_Denoiser`: The plug-in denoiser for the PnP algorithm.\n",
        "3. `DiffPIR_Pipeline`: The high-performance guided diffusion restoration model.\n"
      ]
    },
    {
      "cell_type": "markdown",
      "metadata": {},
      "source": []
    },
    {
      "cell_type": "markdown",
      "metadata": {},
      "source": [
        "## 1. Load Sample Data\n",
        "\n",
        "We will load a sample image from the `test_y` folder to use as input for our tests.\n"
      ]
    },
    {
      "cell_type": "code",
      "execution_count": null,
      "metadata": {},
      "outputs": [],
      "source": [
        "DEVICE = \"cuda\" if torch.cuda.is_available() else \"cpu\"\n",
        "\n",
        "# Load a sample degraded image\n",
        "sample_path = ROOT / \"dataset/test_y/00000.npy\"\n",
        "sample_image_np = np.load(sample_path)\n",
        "sample_image_torch = torch.from_numpy(sample_image_np).unsqueeze(0).unsqueeze(0).float().to(DEVICE) # Shape: [1, 1, H, W]\n",
        "\n",
        "# Define the 5 known convolution directions\n",
        "B0_DIRS = [(-0.809, -0.5878), (-0.809, 0.5878), (0.309, -0.9511), (0.309, 0.9511), (1.0, 0.0)]\n",
        "\n",
        "def plot_image(tensor, title=\"\"):\n",
        "    plt.imshow(tensor.squeeze().cpu().numpy(), cmap='gray')\n",
        "    plt.title(title)\n",
        "    plt.axis('off')\n",
        "\n",
        "plt.figure()\n",
        "plot_image(sample_image_torch, title=\"Original Degraded Image\")\n",
        "plt.show()\n"
      ]
    },
    {
      "cell_type": "markdown",
      "metadata": {},
      "source": [
        "## 2. Test `ClippedInverseFilter`\n"
      ]
    },
    {
      "cell_type": "code",
      "execution_count": null,
      "metadata": {},
      "outputs": [],
      "source": [
        "deconv_filter = ClippedInverseFilter()\n",
        "restored_images_deconv = deconv_filter.run_on_all_directions(sample_image_torch, B0_DIRS)\n",
        "\n",
        "plt.figure(figsize=(20, 4))\n",
        "plt.subplot(1, 6, 1)\n",
        "plot_image(sample_image_torch, title=\"Input\")\n",
        "for i, (img, b0_dir) in enumerate(zip(restored_images_deconv, B0_DIRS)):\n",
        "    plt.subplot(1, 6, i + 2)\n",
        "    plot_image(img, title=f\"Deconv Dir {i+1}\")\n",
        "plt.suptitle(\"ClippedInverseFilter Results for all 5 Directions\", fontsize=16)\n",
        "plt.show()\n"
      ]
    },
    {
      "cell_type": "markdown",
      "metadata": {},
      "source": [
        "## 3. Test `HuggingFace_Denoiser`\n",
        "\n",
        "Note: This will download a pre-trained model from Hugging Face Hub, which might take some time.\n"
      ]
    },
    {
      "cell_type": "code",
      "execution_count": null,
      "metadata": {},
      "outputs": [],
      "source": [
        "denoiser = HuggingFace_Denoiser(device=DEVICE)\n",
        "\n",
        "# The denoiser expects input in [-1, 1], so we normalize our [0, 1] image\n",
        "normalized_input = sample_image_torch * 2.0 - 1.0\n",
        "# The pre-trained model expects 3 channels (RGB), so we repeat our single channel\n",
        "normalized_input_3ch = normalized_input.repeat(1, 3, 1, 1)\n",
        "\n",
        "denoised_image = denoiser.denoise(normalized_input_3ch, noise_level=150)\n",
        "\n",
        "# Convert back to 1 channel grayscale and [0, 1] range for visualization\n",
        "denoised_image_gray = denoised_image.mean(dim=1, keepdim=True)\n",
        "denoised_image_final = (denoised_image_gray + 1.0) / 2.0\n",
        "\n",
        "plt.figure(figsize=(10, 5))\n",
        "plt.subplot(1, 2, 1)\n",
        "plot_image(sample_image_torch, title=\"Input\")\n",
        "plt.subplot(1, 2, 2)\n",
        "plot_image(denoised_image_final, title=\"Denoised Output\")\n",
        "plt.suptitle(\"HuggingFace_Denoiser Result\", fontsize=16)\n",
        "plt.show()\n"
      ]
    },
    {
      "cell_type": "markdown",
      "metadata": {},
      "source": [
        "## 4. Test `DiffPIR_Pipeline`\n"
      ]
    },
    {
      "cell_type": "code",
      "execution_count": null,
      "metadata": {},
      "outputs": [],
      "source": [
        "# Load a pre-trained model and scheduler\n",
        "model_name = \"google/ddpm-celebahq-256\"\n",
        "unet = UNet2DModel.from_pretrained(model_name).to(DEVICE)\n",
        "scheduler = DDPMScheduler.from_pretrained(model_name)\n",
        "\n",
        "# Create our custom pipeline\n",
        "diffpir_pipeline = DiffPIR_Pipeline(unet=unet, scheduler=scheduler)\n",
        "\n",
        "# We need to guess the correct B0_dir for the sample image. Let's try the first one.\n",
        "chosen_b0_dir = B0_DIRS[0]\n",
        "\n",
        "# DiffPIR also works on 3-channel images in range [-1, 1]\n",
        "normalized_input_3ch_diffpir = sample_image_torch.repeat(1, 3, 1, 1)\n",
        "\n",
        "restored_image_diffpir = diffpir_pipeline(\n",
        "    degraded_image=normalized_input_3ch_diffpir,\n",
        "    B0_dir=chosen_b0_dir,\n",
        "    guidance_scale=0.5,\n",
        "    num_inference_steps=50 # Use fewer steps for a quick test\n",
        ")\n",
        "\n",
        "# Convert back for visualization\n",
        "restored_image_gray = restored_image_diffpir.mean(dim=1, keepdim=True)\n",
        "restored_image_final = (restored_image_gray + 1.0) / 2.0\n",
        "\n",
        "plt.figure(figsize=(10, 5))\n",
        "plt.subplot(1, 2, 1)\n",
        "plot_image(sample_image_torch, title=\"Input\")\n",
        "plt.subplot(1, 2, 2)\n",
        "plot_image(restored_image_final, title=\"DiffPIR Restored Output\")\n",
        "plt.suptitle(\"DiffPIR_Pipeline Result\", fontsize=16)\n",
        "plt.show()\n"
      ]
    }
  ],
  "metadata": {
    "language_info": {
      "name": "python"
    }
  },
  "nbformat": 4,
  "nbformat_minor": 2
}
