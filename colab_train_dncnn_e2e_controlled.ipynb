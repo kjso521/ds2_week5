{
  "cells": [
    {
      "cell_type": "markdown",
      "metadata": {},
      "source": [
        "# DnCNN End-to-End 모델 학습 (제어된 증강)\n"
      ]
    },
    {
      "cell_type": "markdown",
      "metadata": {},
      "source": [
        "## 1. 환경 설정\n"
      ]
    },
    {
      "cell_type": "code",
      "execution_count": null,
      "metadata": {},
      "outputs": [],
      "source": [
        "from google.colab import drive\n",
        "drive.mount('/content/drive')\n"
      ]
    },
    {
      "cell_type": "code",
      "execution_count": null,
      "metadata": {},
      "outputs": [],
      "source": [
        "import os\n",
        "\n",
        "# TODO: 사용자님의 Google Drive 프로젝트 경로에 맞게 수정해주세요.\n",
        "PROJECT_ROOT = '/content/drive/MyDrive/Data Scientist/Project/Week5/week5'\n",
        "os.chdir(PROJECT_ROOT)\n"
      ]
    },
    {
      "cell_type": "code",
      "execution_count": null,
      "metadata": {},
      "outputs": [],
      "source": [
        "%pip install loguru tqdm --quiet\n"
      ]
    },
    {
      "cell_type": "markdown",
      "metadata": {},
      "source": [
        "## 2. 데이터셋 준비 (로컬 런타임으로 복사)\n",
        "\n",
        "학습에 필요한 `train`, `val` 폴더만 Google Drive에서 Colab 로컬 런타임 저장소로 복사하여 I/O 속도를 높입니다.\n"
      ]
    },
    {
      "cell_type": "code",
      "execution_count": null,
      "metadata": {},
      "outputs": [],
      "source": [
        "import shutil\n",
        "import time\n",
        "from pathlib import Path\n",
        "\n",
        "DRIVE_DATASET_ROOT = Path('./dataset')\n",
        "LOCAL_DATASET_ROOT = Path('/content/dataset')\n",
        "\n",
        "folders_to_copy = ['train', 'val']\n",
        "\n",
        "print(f\"Starting optimized data copy to {LOCAL_DATASET_ROOT}...\")\n",
        "start_time = time.time()\n",
        "\n",
        "if LOCAL_DATASET_ROOT.exists():\n",
        "    print(\"Local dataset folder already exists. Skipping copy.\")\n",
        "else:\n",
        "    LOCAL_DATASET_ROOT.mkdir(parents=True, exist_ok=True)\n",
        "    for folder in folders_to_copy:\n",
        "        source = DRIVE_DATASET_ROOT / folder\n",
        "        destination = LOCAL_DATASET_ROOT / folder\n",
        "        if source.exists():\n",
        "            print(f\"Copying {source} to {destination}...\")\n",
        "            shutil.copytree(source, destination)\n",
        "            print(f\"Finished copying {folder}.\")\n",
        "        else:\n",
        "            print(f\"Source folder {source} not found, skipping.\")\n",
        "\n",
        "end_time = time.time()\n",
        "print(f\"Data preparation finished in {end_time - start_time:.2f} seconds.\")\n"
      ]
    },
    {
      "cell_type": "markdown",
      "metadata": {},
      "source": [
        "## 3. DnCNN End-to-End 모델 학습 실행\n",
        "\n",
        "`train_controlled.py` 스크립트를 실행하여 제어된(epoch-wise cycling) 데이터 증강 방식으로 End-to-End 모델 학습을 시작합니다.\n"
      ]
    },
    {
      "cell_type": "code",
      "execution_count": null,
      "metadata": {},
      "outputs": [],
      "source": [
        "!python \"code_denoising/train_controlled.py\" \\\n",
        "    --run_dir \"logs_dncnn_e2e_controlled\" \\\n",
        "    --train_dataset \"/content/dataset/train\" \\\n",
        "    --valid_dataset \"/content/dataset/val\" \\\n",
        "    --test_dataset \"/content/dataset/val\" \\\n",
        "    --augmentation_mode \"both\"\n"
      ]
    }
  ],
  "metadata": {
    "language_info": {
      "name": "python"
    }
  },
  "nbformat": 4,
  "nbformat_minor": 2
}
