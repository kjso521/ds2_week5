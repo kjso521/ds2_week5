{
  "cells": [
    {
      "cell_type": "markdown",
      "metadata": {},
      "source": [
        "# Step-by-Step 모델 학습 (Denoising: DnCNN + Deconvolution: U-Net)\n"
      ]
    },
    {
      "cell_type": "markdown",
      "metadata": {},
      "source": [
        "## 1. 환경 설정 및 데이터 준비\n"
      ]
    },
    {
      "cell_type": "code",
      "execution_count": null,
      "metadata": {},
      "outputs": [],
      "source": []
    },
    {
      "cell_type": "code",
      "execution_count": null,
      "metadata": {},
      "outputs": [],
      "source": [
        "from google.colab import drive\n",
        "import os\n",
        "import shutil\n",
        "import time\n",
        "from pathlib import Path\n",
        "\n",
        "# --- 1. 환경 설정 ---\n",
        "print(\"--- 1. Setting up environment ---\")\n",
        "drive.mount('/content/drive')\n",
        "\n",
        "# TODO: 사용자님의 Google Drive 프로젝트 경로에 맞게 수정해주세요.\n",
        "PROJECT_ROOT = '/content/drive/MyDrive/Data Scientist/Project/Week5/week5'\n",
        "os.chdir(PROJECT_ROOT)\n",
        "print(f\"Changed directory to: {os.getcwd()}\")\n",
        "\n",
        "# --- Git 동기화 ---\n",
        "print(\"\\n--- Syncing with GitHub Repository ---\")\n",
        "!git pull origin main\n",
        "print(\"--- Git sync complete ---\\n\")\n",
        "\n",
        "%pip install loguru tqdm --quiet\n",
        "print(\"Installed libraries.\")\n",
        "\n",
        "# --- 2. 데이터셋 준비 (로컬 런타임으로 복사) ---\n",
        "print(\"\\n--- 2. Preparing dataset ---\")\n",
        "DRIVE_DATASET_ROOT = Path('./dataset')\n",
        "LOCAL_DATASET_ROOT = Path('/content/dataset')\n",
        "folders_to_copy = ['train', 'val']\n",
        "\n",
        "print(f\"Starting optimized data copy to {LOCAL_DATASET_ROOT}...\")\n",
        "start_time = time.time()\n",
        "\n",
        "if LOCAL_DATASET_ROOT.exists():\n",
        "    print(\"Local dataset folder already exists. Skipping copy.\")\n",
        "else:\n",
        "    LOCAL_DATASET_ROOT.mkdir(parents=True, exist_ok=True)\n",
        "    for folder in folders_to_copy:\n",
        "        source = DRIVE_DATASET_ROOT / folder\n",
        "        destination = LOCAL_DATASET_ROOT / folder\n",
        "        if source.exists():\n",
        "            print(f\"Copying {source} to {destination}...\")\n",
        "            shutil.copytree(source, destination)\n",
        "            print(f\"Finished copying {folder}.\")\n",
        "        else:\n",
        "            print(f\"Source folder {source} not found, skipping.\")\n",
        "\n",
        "end_time = time.time()\n",
        "print(f\"Data preparation finished in {end_time - start_time:.2f} seconds.\")\n"
      ]
    },
    {
      "cell_type": "markdown",
      "metadata": {},
      "source": [
        "## 2. [1단계] Denoising 모델 (DnCNN) 학습\n",
        "\n",
        "원본 이미지에 **노이즈만 추가**하여 노이즈 제거를 위한 DnCNN 모델을 학습시킵니다.\n"
      ]
    },
    {
      "cell_type": "code",
      "execution_count": null,
      "metadata": {},
      "outputs": [],
      "source": [
        "!python \"code_denoising/train_controlled.py\" \\\n",
        "    --model_type \"dncnn\" \\\n",
        "    --run_dir \"logs_sbs_denoising_dncnn\" \\\n",
        "    --augmentation_mode \"noise_only\"\n"
      ]
    },
    {
      "cell_type": "markdown",
      "metadata": {},
      "source": [
        "## 3. [2단계] Deconvolution 모델 (U-Net) 학습\n",
        "\n",
        "원본 이미지에 **컨볼루션(흐림 효과)만 추가**하여 흐림 효과 제거를 위한 U-Net 모델을 학습시킵니다.\n"
      ]
    },
    {
      "cell_type": "code",
      "execution_count": null,
      "metadata": {},
      "outputs": [],
      "source": [
        "!python \"code_denoising/train_controlled.py\" \\\n",
        "    --model_type \"unet\" \\\n",
        "    --run_dir \"logs_sbs_deconv_unet\" \\\n",
        "    --augmentation_mode \"conv_only\"\n"
      ]
    }
  ],
  "metadata": {
    "language_info": {
      "name": "python"
    }
  },
  "nbformat": 4,
  "nbformat_minor": 2
}
